{
 "cells": [
  {
   "cell_type": "markdown",
   "metadata": {},
   "source": [
    "Import Thư viện thiết"
   ]
  },
  {
   "cell_type": "code",
   "execution_count": 1,
   "metadata": {},
   "outputs": [],
   "source": [
    "import numpy as np\n",
    "import matplotlib.pyplot as plt\n",
    "import pandas as pd\n",
    "from tabulate import tabulate\n",
    "from sklearn.preprocessing import LabelEncoder, OneHotEncoder\n",
    "from sklearn.compose import ColumnTransformer\n",
    "from sklearn.model_selection import train_test_split\n",
    "from sklearn.preprocessing import StandardScaler\n",
    "from keras.models import Sequential\n",
    "from keras.layers import Dense, Input\n",
    "from sklearn.metrics import confusion_matrix\n",
    "from sklearn.impute import SimpleImputer"
   ]
  },
  {
   "cell_type": "markdown",
   "metadata": {},
   "source": [
    "Tiếp nhận thông tin"
   ]
  },
  {
   "cell_type": "code",
   "execution_count": 2,
   "metadata": {},
   "outputs": [],
   "source": [
    "dataset = pd.read_csv('Churn_Modelling.csv')\n",
    "X = dataset.iloc[:, 3:13].values\n",
    "y = dataset.iloc[:, 13].values \n",
    "usernames = dataset.iloc[:, 2].values"
   ]
  },
  {
   "cell_type": "markdown",
   "metadata": {},
   "source": [
    "Mã hóa dữ liệu"
   ]
  },
  {
   "cell_type": "code",
   "execution_count": null,
   "metadata": {},
   "outputs": [],
   "source": [
    "labelencoder_X_1 = LabelEncoder()\n",
    "X[:, 1] = labelencoder_X_1.fit_transform(X[:, 1])\n",
    "labelencoder_X_2 = LabelEncoder()\n",
    "X[:, 2] = labelencoder_X_2.fit_transform(X[:, 2])\n",
    "print(X)\n",
    "column_transformer = ColumnTransformer(\n",
    "    transformers=[\n",
    "        ('onehot', OneHotEncoder(), [1])\n",
    "    ],\n",
    "    remainder='passthrough'\n",
    ")\n",
    "X = column_transformer.fit_transform(X)"
   ]
  },
  {
   "cell_type": "code",
   "execution_count": null,
   "metadata": {},
   "outputs": [],
   "source": [
    "print(\"Dữ liệu sau khi OnehotEncoder\")\n",
    "print(X)"
   ]
  },
  {
   "cell_type": "markdown",
   "metadata": {},
   "source": [
    "Loại bỏ biến giả"
   ]
  },
  {
   "cell_type": "code",
   "execution_count": 5,
   "metadata": {},
   "outputs": [],
   "source": [
    "X = X[:, 1:]"
   ]
  },
  {
   "cell_type": "code",
   "execution_count": null,
   "metadata": {},
   "outputs": [],
   "source": [
    "print(\"Dữ liệu sau khi bỏ cột đầu tiên:\")\n",
    "print(X)"
   ]
  },
  {
   "cell_type": "markdown",
   "metadata": {},
   "source": [
    "Loại bỏ giá trị NaN"
   ]
  },
  {
   "cell_type": "code",
   "execution_count": 7,
   "metadata": {},
   "outputs": [],
   "source": [
    "y = pd.Series(y).replace('', np.nan)  \n",
    "y = pd.to_numeric(y, errors='coerce')  \n",
    "\n",
    "# Tạo DataFrame từ X và y để dễ dàng loại bỏ các hàng có giá trị NaN\n",
    "df = pd.DataFrame(X)\n",
    "df['Exited'] = y\n",
    "\n",
    "# Loại bỏ các hàng có giá trị NaN\n",
    "df.dropna(inplace=True)\n",
    "\n",
    "# Tách lại X và y sau khi loại bỏ NaN\n",
    "X = df.iloc[:, :-1].values\n",
    "y = df['Exited'].values"
   ]
  },
  {
   "cell_type": "markdown",
   "metadata": {},
   "source": [
    "Chia các tập train, test"
   ]
  },
  {
   "cell_type": "code",
   "execution_count": 8,
   "metadata": {},
   "outputs": [],
   "source": [
    "X_train, X_test, y_train, y_test = train_test_split(X, y, test_size=0.2, random_state=0)"
   ]
  },
  {
   "cell_type": "markdown",
   "metadata": {},
   "source": [
    "Chuẩn hóa đặc trưng"
   ]
  },
  {
   "cell_type": "code",
   "execution_count": 9,
   "metadata": {},
   "outputs": [],
   "source": [
    "sc = StandardScaler()\n",
    "X_train = sc.fit_transform(X_train)\n",
    "X_test = sc.transform(X_test)"
   ]
  },
  {
   "cell_type": "code",
   "execution_count": null,
   "metadata": {},
   "outputs": [],
   "source": [
    "print(\"Tập huấn luyện sau khi chuẩn hóa:\") \n",
    "print(X_train)"
   ]
  },
  {
   "cell_type": "code",
   "execution_count": null,
   "metadata": {},
   "outputs": [],
   "source": [
    "print(\"Tập kiểm tra sau khi chuẩn hóa:\")\n",
    "print(X_test)"
   ]
  },
  {
   "cell_type": "markdown",
   "metadata": {},
   "source": [
    " MÔ HÌNH ANN"
   ]
  },
  {
   "cell_type": "markdown",
   "metadata": {},
   "source": [
    "Khởi tạo"
   ]
  },
  {
   "cell_type": "code",
   "execution_count": 12,
   "metadata": {},
   "outputs": [],
   "source": [
    "classifier = Sequential()\n",
    "classifier.add(Input(shape=(X_train.shape[1],)))\n",
    "classifier.add(Dense(units=6, kernel_initializer='uniform', activation='relu'))\n",
    "classifier.add(Dense(units=6, kernel_initializer='uniform', activation='relu'))\n",
    "classifier.add(Dense(units=1, kernel_initializer='uniform', activation='sigmoid'))"
   ]
  },
  {
   "cell_type": "markdown",
   "metadata": {},
   "source": [
    "Biên dịch mô hình"
   ]
  },
  {
   "cell_type": "code",
   "execution_count": 13,
   "metadata": {},
   "outputs": [],
   "source": [
    "classifier.compile(optimizer='adam', loss='binary_crossentropy', metrics=['accuracy']) "
   ]
  },
  {
   "cell_type": "markdown",
   "metadata": {},
   "source": [
    "Huấn luyện"
   ]
  },
  {
   "cell_type": "code",
   "execution_count": null,
   "metadata": {},
   "outputs": [],
   "source": [
    "classifier.fit(X_train, y_train, batch_size=10, epochs=150)"
   ]
  },
  {
   "cell_type": "markdown",
   "metadata": {},
   "source": [
    "Dự báo kết quả"
   ]
  },
  {
   "cell_type": "code",
   "execution_count": null,
   "metadata": {},
   "outputs": [],
   "source": [
    "y_pred = classifier.predict(X_test) \n",
    "y_pred = (y_pred > 0.5).astype(int).flatten()\n",
    "X_test_index = dataset.iloc[X_train.shape[0]:X_train.shape[0] + len(y_test)].index"
   ]
  },
  {
   "cell_type": "markdown",
   "metadata": {},
   "source": [
    "Tạo ma trận nhầm lẫn"
   ]
  },
  {
   "cell_type": "code",
   "execution_count": null,
   "metadata": {},
   "outputs": [],
   "source": [
    "cm = confusion_matrix(y_test, y_pred)\n",
    "accuracy = (cm[0, 0] + cm[1, 1]) / np.sum(cm)\n",
    "print(f\"Độ chính xác của mô hình: {accuracy * 100:.2f}%\")"
   ]
  },
  {
   "cell_type": "markdown",
   "metadata": {},
   "source": [
    "Bảng tỉ lệ phần trăm đúng sai"
   ]
  },
  {
   "cell_type": "code",
   "execution_count": null,
   "metadata": {},
   "outputs": [],
   "source": [
    "print('Bảng dự đoán tỉ lệ đúng sai')\n",
    "labels = ['Dự đoán đúng', 'Dự đoán sai']\n",
    "counts = [cm[0, 0] + cm[1, 1], cm[0, 1] + cm[1, 0]]\n",
    "plt.bar(labels, counts, color=['blue', 'red'])\n",
    "plt.xlabel('Loại Dự Đoán')\n",
    "plt.ylabel('Số lượng')\n",
    "plt.title('Biểu Đồ Hiển Thị Kết Quả Dự Đoán')\n",
    "plt.show()"
   ]
  },
  {
   "cell_type": "markdown",
   "metadata": {},
   "source": [
    "Biểu đồ tỉ lệ giới tính "
   ]
  },
  {
   "cell_type": "code",
   "execution_count": null,
   "metadata": {},
   "outputs": [],
   "source": [
    "gender_exit_pred = pd.DataFrame({'Gender': dataset.loc[X_test_index, 'Gender'].values[:len(y_pred)], 'Predicted_Exited' : y_pred})\n",
    "gender_exit_real = dataset.loc[X_test_index, ['Gender', 'Exited']]\n",
    "\n",
    "# Loại bỏ các giá trị NaN trong dữ liệu\n",
    "gender_exit_pred.dropna(inplace=True)\n",
    "gender_exit_real.dropna(inplace=True)\n",
    "\n",
    "# Tính số lượng dự đoán hủy bỏ dịch vụ theo giới tính\n",
    "\n",
    "gender_exit_counts_pred = [\n",
    "np.sum((gender_exit_pred['Gender'] == 'Female') & (gender_exit_pred['Predicted_Exited'] == 1)),\n",
    "np.sum((gender_exit_pred['Gender'] == 'Male') & (gender_exit_pred['Predicted_Exited'] == 1))\n",
    "]\n",
    "\n",
    "# Tính số lượng thực tế hủy bỏ dịch vụ theo giới tính\n",
    "gender_exit_counts_real = [\n",
    "np.sum((gender_exit_real['Gender'] == 'Female') & (gender_exit_real['Exited'] == 1)), np.sum((gender_exit_real['Gender'] == 'Male') & (gender_exit_real['Exited'] == 1))\n",
    "]\n",
    "\n",
    "# Vẽ biểu đồ tròn cho tỷ lệ dự đoản hủy bỏ dịch vụ theo giới tính \n",
    "plt.figure(figsize=(14, 7))\n",
    "plt.subplot(1, 2, 1)\n",
    "plt.pie(gender_exit_counts_pred, labels=['Nữ', 'Nam'], autopct='%1.1f%%', startangle=90, colors=['pink', 'lightblue'])\n",
    "plt.title('Tỷ Lệ Dự Đoán Hủy Bỏ Dịch Vụ Theo Giới Tính')\n",
    "\n",
    "# Vẽ biểu đồ tròn cho tỷ lệ thực tế hủy bỏ dịch vụ theo giới tỉnh\n",
    "\n",
    "plt.subplot(1, 2, 2)\n",
    "plt.pie(gender_exit_counts_real, labels=['Nữ', 'Nam'], autopct='%1.1f%%', startangle=90, colors=['pink', 'Lightblue'])\n",
    "plt.title('Tỷ Lệ Thực Tế Hủy Bỏ Dịch Vụ Theo Giới Tính')\n",
    "plt.show()"
   ]
  },
  {
   "cell_type": "markdown",
   "metadata": {},
   "source": [
    "Biểu đồ thể hiện tỉ lệ độ tuổi có nguy cơ huỷ bỏ trực tuyến"
   ]
  },
  {
   "cell_type": "code",
   "execution_count": null,
   "metadata": {},
   "outputs": [],
   "source": [
    "# Tạo dataframe kết hợp tuổi và dự đoán\n",
    "age_exit_pred = pd.DataFrame({'Age': dataset.loc[X_test_index, 'Age'].values, 'Predicted_Exited': y_pred}) \n",
    "age_exit_pred['Age'] = age_exit_pred['Age'].astype(int) # Chuyển đổi cột \"Age\" thành số nguyên\n",
    "\n",
    "# Tỉnh số lượng dự đoán hủy bỏ dịch vụ theo nhóm tuổi\n",
    "age_groups = ['Dưới 20', '20-30', '30-40', '40-50', 'Trên 50']\n",
    "age_exit_counts_pred = [\n",
    "np.sum((age_exit_pred['Age'] < 20) & (age_exit_pred['Predicted_Exited'] == 1)), \n",
    "np.sum((age_exit_pred['Age'] >= 20) & (age_exit_pred['Age'] < 30) & (age_exit_pred['Predicted_Exited'] == 1)), \n",
    "np.sum((age_exit_pred['Age'] >= 30) & (age_exit_pred['Age'] < 40) & (age_exit_pred['Predicted_Exited'] == 1)),\n",
    "np.sum((age_exit_pred['Age'] >= 40) & (age_exit_pred['Age'] < 50) & (age_exit_pred['Predicted_Exited'] == 1)), \n",
    "np.sum((age_exit_pred['Age'] >= 50) & (age_exit_pred['Predicted_Exited'] == 1))\n",
    "]\n",
    "\n",
    "# Tính số lượng thực tế hủy bỏ dịch vụ theo nhóm tuổi \n",
    "age_exit_real = dataset.loc[X_test_index, ['Age', 'Exited']]\n",
    "age_exit_real['Age'] = age_exit_real['Age'].astype(int) # Chuyển đổi cột \"Age\" thành số nguyên\n",
    "\n",
    "age_exit_counts_real = [\n",
    "np.sum((age_exit_real['Age'] < 20) & (age_exit_real['Exited'] == 1)), \n",
    "np.sum((age_exit_real['Age'] >= 20) & (age_exit_real['Age'] < 30) & (age_exit_real['Exited'] == 1)), \n",
    "np.sum((age_exit_real['Age'] >= 30) & (age_exit_real['Age'] < 40) & (age_exit_real['Exited'] == 1)),\n",
    "np.sum((age_exit_real['Age'] >= 40) & (age_exit_real['Age'] < 50) & (age_exit_real['Exited'] == 1)),\n",
    "np.sum((age_exit_real['Age'] >= 50) & (age_exit_real['Exited'] == 1))\n",
    "]\n",
    "\n",
    "# Vẽ biểu đồ cột cho tỷ lệ dự đoán và thực tế hủy bỏ dịch vụ theo nhóm tuổi\n",
    "bar_width = 0.35\n",
    "r1= np.arange(len(age_groups))\n",
    "r2= [x + bar_width for x in r1]\n",
    "plt.figure(figsize=(10, 6)) # Set figure size\n",
    "plt.bar(r1, age_exit_counts_pred, color='pink', width=bar_width, label='Dự Đoán')\n",
    "plt.bar(r2, age_exit_counts_real, color='green', width=bar_width, label='Thực Tế')\n",
    "\n",
    "plt.xlabel('Nhóm Tuổi')\n",
    "plt.ylabel('Số Lượng Hủy Bỏ Dịch Vụ')\n",
    "plt.title('Tỷ Lệ Hủy Bỏ Dịch Vụ Theo Nhóm Tuổi (Dự Đoán vs Thực Tế)')\n",
    "plt.xticks([r + bar_width / 2 for r in range(len(age_groups))], age_groups)\n",
    "plt.legend()\n",
    "plt.show()"
   ]
  },
  {
   "cell_type": "markdown",
   "metadata": {},
   "source": [
    "Hiển thị thông tin từng người"
   ]
  },
  {
   "cell_type": "code",
   "execution_count": null,
   "metadata": {},
   "outputs": [],
   "source": [
    "data = [] \n",
    "for i in range(30): data.append([usernames[i], y_pred[i], y_test[i]]) \n",
    "print(tabulate(data, headers=['Tên người dùng', 'Dự đoán', 'Thực tế'], tablefmt='psql'))"
   ]
  }
 ],
 "metadata": {
  "kernelspec": {
   "display_name": "AI",
   "language": "python",
   "name": "python3"
  },
  "language_info": {
   "codemirror_mode": {
    "name": "ipython",
    "version": 3
   },
   "file_extension": ".py",
   "mimetype": "text/x-python",
   "name": "python",
   "nbconvert_exporter": "python",
   "pygments_lexer": "ipython3",
   "version": "3.9.13"
  }
 },
 "nbformat": 4,
 "nbformat_minor": 2
}
